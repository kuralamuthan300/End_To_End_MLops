{
 "cells": [
  {
   "cell_type": "code",
   "execution_count": 20,
   "metadata": {},
   "outputs": [
    {
     "data": {
      "text/plain": [
       "'C:\\\\Users\\\\kural\\\\Desktop\\\\Projects\\\\End_To_End_MLops'"
      ]
     },
     "execution_count": 20,
     "metadata": {},
     "output_type": "execute_result"
    }
   ],
   "source": [
    "%pwd"
   ]
  },
  {
   "cell_type": "code",
   "execution_count": 21,
   "metadata": {},
   "outputs": [],
   "source": [
    "import os\n",
    "from pathlib import Path\n",
    "os.chdir(Path(\"C:\\\\Users\\\\kural\\\\Desktop\\\\Projects\\\\End_To_End_MLops\\\\\"))"
   ]
  },
  {
   "cell_type": "code",
   "execution_count": 22,
   "metadata": {},
   "outputs": [
    {
     "data": {
      "text/plain": [
       "'C:\\\\Users\\\\kural\\\\Desktop\\\\Projects\\\\End_To_End_MLops'"
      ]
     },
     "execution_count": 22,
     "metadata": {},
     "output_type": "execute_result"
    }
   ],
   "source": [
    "%pwd"
   ]
  },
  {
   "cell_type": "code",
   "execution_count": 23,
   "metadata": {},
   "outputs": [],
   "source": [
    "# from software_defect_prediction.constants import *\n",
    "from software_defect_prediction.utils.common import *\n",
    "# from software_defect_prediction.entity.config_entity import DataIngestionConfig\n",
    "# from software_defect_prediction.config.configuration import ConfigurationManager"
   ]
  },
  {
   "cell_type": "code",
   "execution_count": 24,
   "metadata": {},
   "outputs": [],
   "source": [
    "from dataclasses import dataclass\n",
    "from pathlib import Path\n",
    "from software_defect_prediction import logger\n",
    "\n",
    "@dataclass(frozen=True)\n",
    "class DataIngestionConfig:\n",
    "    root_dir: Path\n",
    "    source_URL: str\n",
    "    source_URL_file_name : str\n",
    "    source_URL_unzip_file_name : str\n",
    "    local_data_file: Path\n",
    "    unzip_dir: Path"
   ]
  },
  {
   "cell_type": "code",
   "execution_count": 25,
   "metadata": {},
   "outputs": [],
   "source": [
    "from software_defect_prediction.constants import *\n",
    "from software_defect_prediction.utils.common import read_yaml, create_directories\n",
    "from software_defect_prediction.entity.config_entity import (DataIngestionConfig)\n",
    "\n",
    "class ConfigurationManager:\n",
    "    def __init__(\n",
    "        self,\n",
    "        config_filepath = CONFIG_FILE_PATH,\n",
    "        params_filepath = PARAMS_FILE_PATH,\n",
    "        schema_filepath = SCHEMA_FILE_PATH):\n",
    "\n",
    "        self.config = read_yaml(config_filepath)\n",
    "        self.params = read_yaml(params_filepath)\n",
    "        self.schema = read_yaml(schema_filepath)\n",
    "\n",
    "        create_directories([self.config.artifacts_root])\n",
    "\n",
    "\n",
    "    \n",
    "    def get_data_ingestion_config(self) -> DataIngestionConfig:\n",
    "        config = self.config.data_ingestion\n",
    "\n",
    "        create_directories([config.root_dir])\n",
    "\n",
    "        data_ingestion_config = DataIngestionConfig(\n",
    "            root_dir=config.root_dir,\n",
    "            source_URL=config.source_URL,\n",
    "            source_URL_file_name = config.source_URL_file_name,\n",
    "            source_URL_unzip_file_name = config.source_URL_unzip_file_name,\n",
    "            local_data_file=config.local_data_file,\n",
    "            unzip_dir=config.unzip_dir \n",
    "        )\n",
    "\n",
    "        return data_ingestion_config"
   ]
  },
  {
   "cell_type": "code",
   "execution_count": 26,
   "metadata": {},
   "outputs": [],
   "source": [
    "from software_defect_prediction.entity.config_entity import DataIngestionConfig\n",
    "from software_defect_prediction import logger\n",
    "\n",
    "import urllib.request\n",
    "from pathlib import Path\n",
    "import zipfile\n",
    "\n",
    " \n",
    "class Data_Ingestion():\n",
    "    def __init__(self,data_ingestion_config : DataIngestionConfig) -> None:\n",
    "        self.config = data_ingestion_config\n",
    "    \n",
    "    def download_file(self) -> None:\n",
    "        save_path = Path(self.config.root_dir,self.config.source_URL_file_name)\n",
    "        try:\n",
    "            # Open a connection to the URL\n",
    "            with urllib.request.urlopen(self.config.source_URL) as response:\n",
    "                # Read data from the response\n",
    "                data = response.read()\n",
    "                \n",
    "                # Write the data to a file at the specified save path\n",
    "                with open(save_path, 'wb') as file:\n",
    "                    file.write(data)\n",
    "                    \n",
    "            logger.info(f\"File downloaded successfully to: {save_path}\")\n",
    "        except Exception as e:\n",
    "            logger.error(f\"Failed to download file from {self.config.source_URL}: {e}\")\n",
    "            \n",
    "    def unzip_file(self) -> None:\n",
    "        \n",
    "        zip_file_path = Path(self.config.root_dir,self.config.source_URL_file_name) \n",
    "        extract_dir = self.config.unzip_dir\n",
    "        from_rename = self.config.source_URL_unzip_file_name\n",
    "        to_rename = self.config.local_data_file\n",
    "        \n",
    "        try:\n",
    "            # Create the extraction directory if it doesn't exist\n",
    "            os.makedirs(extract_dir, exist_ok=True)\n",
    "\n",
    "            # Open the zip file for reading\n",
    "            with zipfile.ZipFile(zip_file_path, 'r') as zip_ref:\n",
    "                # Extract all contents of the zip file to the extraction directory\n",
    "                zip_ref.extractall(extract_dir)\n",
    "                os.replace(Path(extract_dir,from_rename),Path(extract_dir,to_rename))\n",
    "\n",
    "            logger.info(f\"Successfully extracted {zip_file_path} to {extract_dir}\")\n",
    "        except Exception as e:\n",
    "            logger.error(f\"Failed to unzip {zip_file_path}: {e}\")"
   ]
  },
  {
   "cell_type": "code",
   "execution_count": 27,
   "metadata": {},
   "outputs": [
    {
     "name": "stderr",
     "output_type": "stream",
     "text": [
      "\u001b[32m2024-05-24 09:54:12.331\u001b[0m | \u001b[1mINFO    \u001b[0m | \u001b[36msoftware_defect_prediction.utils.common\u001b[0m:\u001b[36mread_yaml\u001b[0m:\u001b[36m31\u001b[0m - \u001b[1myaml file: config\\config.yaml loaded successfully\u001b[0m\n",
      "\u001b[32m2024-05-24 09:54:12.334\u001b[0m | \u001b[1mINFO    \u001b[0m | \u001b[36msoftware_defect_prediction.utils.common\u001b[0m:\u001b[36mread_yaml\u001b[0m:\u001b[36m31\u001b[0m - \u001b[1myaml file: params.yaml loaded successfully\u001b[0m\n",
      "\u001b[32m2024-05-24 09:54:12.339\u001b[0m | \u001b[1mINFO    \u001b[0m | \u001b[36msoftware_defect_prediction.utils.common\u001b[0m:\u001b[36mread_yaml\u001b[0m:\u001b[36m31\u001b[0m - \u001b[1myaml file: schema.yaml loaded successfully\u001b[0m\n",
      "\u001b[32m2024-05-24 09:54:12.342\u001b[0m | \u001b[1mINFO    \u001b[0m | \u001b[36msoftware_defect_prediction.utils.common\u001b[0m:\u001b[36mcreate_directories\u001b[0m:\u001b[36m51\u001b[0m - \u001b[1mcreated directory at: artifacts\u001b[0m\n",
      "\u001b[32m2024-05-24 09:54:12.344\u001b[0m | \u001b[1mINFO    \u001b[0m | \u001b[36msoftware_defect_prediction.utils.common\u001b[0m:\u001b[36mcreate_directories\u001b[0m:\u001b[36m51\u001b[0m - \u001b[1mcreated directory at: artifacts/data_ingestion\u001b[0m\n",
      "\u001b[32m2024-05-24 09:54:16.141\u001b[0m | \u001b[1mINFO    \u001b[0m | \u001b[36m__main__\u001b[0m:\u001b[36mdownload_file\u001b[0m:\u001b[36m25\u001b[0m - \u001b[1mFile downloaded successfully to: artifacts\\data_ingestion\\software_defect_detection.zip\u001b[0m\n",
      "\u001b[32m2024-05-24 09:54:16.239\u001b[0m | \u001b[1mINFO    \u001b[0m | \u001b[36m__main__\u001b[0m:\u001b[36munzip_file\u001b[0m:\u001b[36m46\u001b[0m - \u001b[1mSuccessfully extracted artifacts\\data_ingestion\\software_defect_detection.zip to artifacts/data_ingestion\u001b[0m\n",
      "\u001b[32m2024-05-24 09:54:16.239\u001b[0m | \u001b[32m\u001b[1mSUCCESS \u001b[0m | \u001b[36m__main__\u001b[0m:\u001b[36m<module>\u001b[0m:\u001b[36m6\u001b[0m - \u001b[32m\u001b[1mData ingestion completed successfully\u001b[0m\n"
     ]
    }
   ],
   "source": [
    "configuration_obj = ConfigurationManager()\n",
    "data_ingestion_conf =  configuration_obj.get_data_ingestion_config()\n",
    "step_data_ing = Data_Ingestion(data_ingestion_conf)\n",
    "step_data_ing.download_file()\n",
    "step_data_ing.unzip_file()\n",
    "logger.success(\"Data ingestion completed successfully\")"
   ]
  },
  {
   "cell_type": "code",
   "execution_count": 28,
   "metadata": {},
   "outputs": [
    {
     "data": {
      "text/plain": [
       "'artifacts/data_ingestion'"
      ]
     },
     "execution_count": 28,
     "metadata": {},
     "output_type": "execute_result"
    }
   ],
   "source": [
    "data_ingestion_conf.root_dir"
   ]
  }
 ],
 "metadata": {
  "kernelspec": {
   "display_name": "jupyter_nb",
   "language": "python",
   "name": "python3"
  },
  "language_info": {
   "codemirror_mode": {
    "name": "ipython",
    "version": 3
   },
   "file_extension": ".py",
   "mimetype": "text/x-python",
   "name": "python",
   "nbconvert_exporter": "python",
   "pygments_lexer": "ipython3",
   "version": "3.11.9"
  }
 },
 "nbformat": 4,
 "nbformat_minor": 2
}
