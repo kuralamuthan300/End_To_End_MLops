{
 "cells": [
  {
   "cell_type": "code",
   "execution_count": 41,
   "metadata": {},
   "outputs": [
    {
     "data": {
      "text/plain": [
       "'C:\\\\Users\\\\kural\\\\Desktop\\\\Projects\\\\End_To_End_MLops'"
      ]
     },
     "execution_count": 41,
     "metadata": {},
     "output_type": "execute_result"
    }
   ],
   "source": [
    "%pwd"
   ]
  },
  {
   "cell_type": "code",
   "execution_count": 42,
   "metadata": {},
   "outputs": [],
   "source": [
    "import os\n",
    "from pathlib import Path\n",
    "os.chdir(Path(\"C:\\\\Users\\\\kural\\\\Desktop\\\\Projects\\\\End_To_End_MLops\\\\\"))"
   ]
  },
  {
   "cell_type": "code",
   "execution_count": 43,
   "metadata": {},
   "outputs": [
    {
     "data": {
      "text/plain": [
       "'C:\\\\Users\\\\kural\\\\Desktop\\\\Projects\\\\End_To_End_MLops'"
      ]
     },
     "execution_count": 43,
     "metadata": {},
     "output_type": "execute_result"
    }
   ],
   "source": [
    "%pwd"
   ]
  },
  {
   "cell_type": "code",
   "execution_count": 44,
   "metadata": {},
   "outputs": [],
   "source": [
    "# from software_defect_prediction.constants import *\n",
    "from software_defect_prediction.utils.common import *\n",
    "# from software_defect_prediction.entity.config_entity import DataIngestionConfig\n",
    "# from software_defect_prediction.config.configuration import ConfigurationManager"
   ]
  },
  {
   "cell_type": "code",
   "execution_count": 45,
   "metadata": {},
   "outputs": [],
   "source": [
    "from dataclasses import dataclass\n",
    "from pathlib import Path\n",
    "from software_defect_prediction import logger\n",
    "\n",
    "@dataclass(frozen=True)\n",
    "class DataIngestionConfig:\n",
    "    root_dir: Path\n",
    "    source_URL: str\n",
    "    source_URL_file_name : str\n",
    "    source_URL_unzip_file_name : str\n",
    "    local_data_file: Path\n",
    "    unzip_dir: Path"
   ]
  },
  {
   "cell_type": "code",
   "execution_count": 46,
   "metadata": {},
   "outputs": [],
   "source": [
    "from software_defect_prediction.constants import *\n",
    "from software_defect_prediction.utils.common import read_yaml, create_directories\n",
    "from software_defect_prediction.entity.config_entity import (DataIngestionConfig)\n",
    "\n",
    "class ConfigurationManager:\n",
    "    def __init__(\n",
    "        self,\n",
    "        config_filepath = CONFIG_FILE_PATH,\n",
    "        params_filepath = PARAMS_FILE_PATH,\n",
    "        schema_filepath = SCHEMA_FILE_PATH):\n",
    "\n",
    "        self.config = read_yaml(config_filepath)\n",
    "        self.params = read_yaml(params_filepath)\n",
    "        self.schema = read_yaml(schema_filepath)\n",
    "\n",
    "        create_directories([self.config.artifacts_root])\n",
    "\n",
    "\n",
    "    \n",
    "    def get_data_ingestion_config(self) -> DataIngestionConfig:\n",
    "        config = self.config.data_ingestion\n",
    "\n",
    "        create_directories([config.root_dir])\n",
    "\n",
    "        data_ingestion_config = DataIngestionConfig(\n",
    "            root_dir=config.root_dir,\n",
    "            source_URL=config.source_URL,\n",
    "            source_URL_file_name = config.source_URL_file_name,\n",
    "            source_URL_unzip_file_name = config.source_URL_unzip_file_name,\n",
    "            local_data_file=config.local_data_file,\n",
    "            unzip_dir=config.unzip_dir \n",
    "        )\n",
    "\n",
    "        return data_ingestion_config"
   ]
  },
  {
   "cell_type": "code",
   "execution_count": 47,
   "metadata": {},
   "outputs": [
    {
     "name": "stderr",
     "output_type": "stream",
     "text": [
      "\u001b[32m2024-05-24 09:33:37.501\u001b[0m | \u001b[1mINFO    \u001b[0m | \u001b[36msoftware_defect_prediction.utils.common\u001b[0m:\u001b[36mread_yaml\u001b[0m:\u001b[36m31\u001b[0m - \u001b[1myaml file: config\\config.yaml loaded successfully\u001b[0m\n",
      "\u001b[32m2024-05-24 09:33:37.511\u001b[0m | \u001b[1mINFO    \u001b[0m | \u001b[36msoftware_defect_prediction.utils.common\u001b[0m:\u001b[36mread_yaml\u001b[0m:\u001b[36m31\u001b[0m - \u001b[1myaml file: params.yaml loaded successfully\u001b[0m\n",
      "\u001b[32m2024-05-24 09:33:37.519\u001b[0m | \u001b[1mINFO    \u001b[0m | \u001b[36msoftware_defect_prediction.utils.common\u001b[0m:\u001b[36mread_yaml\u001b[0m:\u001b[36m31\u001b[0m - \u001b[1myaml file: schema.yaml loaded successfully\u001b[0m\n",
      "\u001b[32m2024-05-24 09:33:37.522\u001b[0m | \u001b[1mINFO    \u001b[0m | \u001b[36msoftware_defect_prediction.utils.common\u001b[0m:\u001b[36mcreate_directories\u001b[0m:\u001b[36m51\u001b[0m - \u001b[1mcreated directory at: artifacts\u001b[0m\n"
     ]
    }
   ],
   "source": [
    "configuration_obj = ConfigurationManager()"
   ]
  },
  {
   "cell_type": "code",
   "execution_count": 48,
   "metadata": {},
   "outputs": [
    {
     "name": "stderr",
     "output_type": "stream",
     "text": [
      "\u001b[32m2024-05-24 09:33:37.528\u001b[0m | \u001b[1mINFO    \u001b[0m | \u001b[36msoftware_defect_prediction.utils.common\u001b[0m:\u001b[36mcreate_directories\u001b[0m:\u001b[36m51\u001b[0m - \u001b[1mcreated directory at: artifacts/data_ingestion\u001b[0m\n"
     ]
    }
   ],
   "source": [
    "data_ingestion_conf =  configuration_obj.get_data_ingestion_config()"
   ]
  },
  {
   "cell_type": "code",
   "execution_count": 49,
   "metadata": {},
   "outputs": [
    {
     "data": {
      "text/plain": [
       "DataIngestionConfig(root_dir='artifacts/data_ingestion', source_URL='https://drive.usercontent.google.com/u/0/uc?id=1-16D_BjR9RGJJ-UySEqFKWSO7ElDmmVs&export=download', source_URL_file_name='software_defect_detection.zip', source_URL_unzip_file_name='train.csv', local_data_file='software_defect_detection.csv', unzip_dir='artifacts/data_ingestion')"
      ]
     },
     "execution_count": 49,
     "metadata": {},
     "output_type": "execute_result"
    }
   ],
   "source": [
    "data_ingestion_conf"
   ]
  },
  {
   "cell_type": "code",
   "execution_count": 50,
   "metadata": {},
   "outputs": [
    {
     "data": {
      "text/plain": [
       "'C:\\\\Users\\\\kural\\\\Desktop\\\\Projects\\\\End_To_End_MLops'"
      ]
     },
     "execution_count": 50,
     "metadata": {},
     "output_type": "execute_result"
    }
   ],
   "source": [
    "%pwd"
   ]
  },
  {
   "cell_type": "code",
   "execution_count": 51,
   "metadata": {},
   "outputs": [
    {
     "name": "stderr",
     "output_type": "stream",
     "text": [
      "\u001b[32m2024-05-24 09:33:43.318\u001b[0m | \u001b[1mINFO    \u001b[0m | \u001b[36m__main__\u001b[0m:\u001b[36mdownload_file\u001b[0m:\u001b[36m15\u001b[0m - \u001b[1mFile downloaded successfully to: artifacts\\data_ingestion\\software_defect_detection.zip\u001b[0m\n"
     ]
    }
   ],
   "source": [
    "import urllib.request\n",
    "from pathlib import Path\n",
    "\n",
    "def download_file(url : str, save_path : str):\n",
    "    try:\n",
    "        # Open a connection to the URL\n",
    "        with urllib.request.urlopen(url) as response:\n",
    "            # Read data from the response\n",
    "            data = response.read()\n",
    "            \n",
    "            # Write the data to a file at the specified save path\n",
    "            with open(save_path, 'wb') as file:\n",
    "                file.write(data)\n",
    "                \n",
    "        logger.info(f\"File downloaded successfully to: {save_path}\")\n",
    "    except Exception as e:\n",
    "        logger.error(f\"Failed to download file from {url}: {e}\")\n",
    "        \n",
    "url = data_ingestion_conf.source_URL  # URL of the file to download\n",
    "save_path =  Path(data_ingestion_conf.root_dir,data_ingestion_conf.source_URL_file_name) # Path where the file will be saved\n",
    "\n",
    "# Call the function to download the file\n",
    "download_file(url, save_path)"
   ]
  },
  {
   "cell_type": "code",
   "execution_count": 52,
   "metadata": {},
   "outputs": [
    {
     "name": "stderr",
     "output_type": "stream",
     "text": [
      "\u001b[32m2024-05-24 09:33:43.425\u001b[0m | \u001b[1mINFO    \u001b[0m | \u001b[36m__main__\u001b[0m:\u001b[36munzip_file\u001b[0m:\u001b[36m14\u001b[0m - \u001b[1mSuccessfully extracted artifacts\\data_ingestion\\software_defect_detection.zip to artifacts/data_ingestion\u001b[0m\n"
     ]
    }
   ],
   "source": [
    "import zipfile\n",
    "\n",
    "def unzip_file(zip_file_path, extract_dir, from_rename,to_rename):\n",
    "    try:\n",
    "        # Create the extraction directory if it doesn't exist\n",
    "        os.makedirs(extract_dir, exist_ok=True)\n",
    "        \n",
    "        # Open the zip file for reading\n",
    "        with zipfile.ZipFile(zip_file_path, 'r') as zip_ref:\n",
    "            # Extract all contents of the zip file to the extraction directory\n",
    "            zip_ref.extractall(extract_dir)\n",
    "            os.replace(Path(extract_dir,from_rename),Path(extract_dir,to_rename))\n",
    "            \n",
    "        logger.info(f\"Successfully extracted {zip_file_path} to {extract_dir}\")\n",
    "    except Exception as e:\n",
    "        logger.error(f\"Failed to unzip {zip_file_path}: {e}\")\n",
    "\n",
    "# Example usage\n",
    "zip_file_path = Path(data_ingestion_conf.root_dir,data_ingestion_conf.source_URL_file_name)        # Path to the zip file to be extracted\n",
    "extract_dir = data_ingestion_conf.unzip_dir   # Directory where contents will be extracted\n",
    "\n",
    "# Call the function to unzip the file\n",
    "unzip_file(zip_file_path, extract_dir, data_ingestion_conf.source_URL_unzip_file_name, data_ingestion_conf.local_data_file)"
   ]
  },
  {
   "cell_type": "code",
   "execution_count": null,
   "metadata": {},
   "outputs": [],
   "source": []
  }
 ],
 "metadata": {
  "kernelspec": {
   "display_name": "jupyter_nb",
   "language": "python",
   "name": "python3"
  },
  "language_info": {
   "codemirror_mode": {
    "name": "ipython",
    "version": 3
   },
   "file_extension": ".py",
   "mimetype": "text/x-python",
   "name": "python",
   "nbconvert_exporter": "python",
   "pygments_lexer": "ipython3",
   "version": "3.11.9"
  }
 },
 "nbformat": 4,
 "nbformat_minor": 2
}
