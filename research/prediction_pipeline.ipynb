{
 "cells": [
  {
   "cell_type": "code",
   "execution_count": 1,
   "metadata": {},
   "outputs": [],
   "source": [
    "import pandas as pd\n",
    "import os\n",
    "from pathlib import Path\n",
    "os.chdir(Path(\"C:\\\\Users\\\\kural\\\\Desktop\\\\Projects\\\\End_To_End_MLops\\\\\"))"
   ]
  },
  {
   "cell_type": "code",
   "execution_count": 2,
   "metadata": {},
   "outputs": [],
   "source": [
    "# Define the column names and the corresponding data\n",
    "columns = [\n",
    "    'loc', 'v(g)', 'ev(g)', 'iv(g)', 'n', 'v', 'l', 'd', 'i', 'e', 'b', 't', \n",
    "    'lOCode', 'lOComment', 'lOBlank', 'locCodeAndComment', 'uniq_Op', \n",
    "    'uniq_Opnd', 'total_Op', 'total_Opnd', 'branchCount'\n",
    "]\n",
    "data = [\n",
    "    40.0, 9.0, 3.0, 7.0, 151.0, 823.92, 0.04, 23.33, 35.54, 22476.1, 0.27, 1248.67, \n",
    "    32, 0, 8, 2, 18.0, 21.0, 95.0, 56.0, 17.0\n",
    "]\n",
    "\n",
    "# Create a DataFrame\n",
    "df = pd.DataFrame([data], columns=columns)"
   ]
  },
  {
   "cell_type": "code",
   "execution_count": 13,
   "metadata": {},
   "outputs": [
    {
     "data": {
      "text/plain": [
       "'{\"loc\":40.0,\"v(g)\":9.0,\"ev(g)\":3.0,\"iv(g)\":7.0,\"n\":151.0,\"v\":823.92,\"l\":0.04,\"d\":23.33,\"i\":35.54,\"e\":22476.1,\"b\":0.27,\"t\":1248.67,\"lOCode\":32.0,\"lOComment\":0.0,\"lOBlank\":8.0,\"locCodeAndComment\":2.0,\"uniq_Op\":18.0,\"uniq_Opnd\":21.0,\"total_Op\":95.0,\"total_Opnd\":56.0,\"branchCount\":17.0}'"
      ]
     },
     "execution_count": 13,
     "metadata": {},
     "output_type": "execute_result"
    }
   ],
   "source": [
    "df.iloc[0].to_json()"
   ]
  },
  {
   "cell_type": "code",
   "execution_count": 3,
   "metadata": {},
   "outputs": [
    {
     "name": "stderr",
     "output_type": "stream",
     "text": [
      "\u001b[32m2024-06-06 09:43:01.255\u001b[0m | \u001b[1mINFO    \u001b[0m | \u001b[36msoftware_defect_prediction.utils.common\u001b[0m:\u001b[36mread_yaml\u001b[0m:\u001b[36m31\u001b[0m - \u001b[1myaml file: config\\config.yaml loaded successfully\u001b[0m\n",
      "\u001b[32m2024-06-06 09:43:01.261\u001b[0m | \u001b[1mINFO    \u001b[0m | \u001b[36msoftware_defect_prediction.utils.common\u001b[0m:\u001b[36mread_yaml\u001b[0m:\u001b[36m31\u001b[0m - \u001b[1myaml file: params.yaml loaded successfully\u001b[0m\n",
      "\u001b[32m2024-06-06 09:43:01.265\u001b[0m | \u001b[1mINFO    \u001b[0m | \u001b[36msoftware_defect_prediction.utils.common\u001b[0m:\u001b[36mread_yaml\u001b[0m:\u001b[36m31\u001b[0m - \u001b[1myaml file: schema.yaml loaded successfully\u001b[0m\n",
      "\u001b[32m2024-06-06 09:43:01.268\u001b[0m | \u001b[1mINFO    \u001b[0m | \u001b[36msoftware_defect_prediction.utils.common\u001b[0m:\u001b[36mread_yaml\u001b[0m:\u001b[36m31\u001b[0m - \u001b[1myaml file: credentials.yaml loaded successfully\u001b[0m\n",
      "\u001b[32m2024-06-06 09:43:01.269\u001b[0m | \u001b[1mINFO    \u001b[0m | \u001b[36msoftware_defect_prediction.utils.common\u001b[0m:\u001b[36mcreate_directories\u001b[0m:\u001b[36m51\u001b[0m - \u001b[1mcreated directory at: artifacts\u001b[0m\n"
     ]
    },
    {
     "data": {
      "text/plain": [
       "array([0])"
      ]
     },
     "execution_count": 3,
     "metadata": {},
     "output_type": "execute_result"
    }
   ],
   "source": [
    "from software_defect_prediction.pipeline.prediction_pipeline import Prediction\n",
    "from software_defect_prediction.config.configuration import ConfigurationManager\n",
    "\n",
    "def get_prediction_obj():\n",
    "    config_manager = ConfigurationManager()\n",
    "    prediction_obj = Prediction(config_manager.get_prediction_config())\n",
    "    return(prediction_obj)\n",
    "\n",
    "get_prediction_obj().predict(df)"
   ]
  },
  {
   "cell_type": "code",
   "execution_count": 4,
   "metadata": {},
   "outputs": [],
   "source": [
    "\n",
    "# from software_defect_prediction.pipeline.prediction_pipeline import Prediction\n",
    "# from software_defect_prediction.config.configuration import ConfigurationManager\n",
    "# import pandas as pd\n",
    "\n",
    "# def get_prediction_obj():\n",
    "#     config_manager = ConfigurationManager()\n",
    "#     prediction_obj = Prediction(config_manager.get_prediction_config())\n",
    "#     return(prediction_obj)\n",
    "\n",
    "# def predict(df):\n",
    "#     prediction_obj = get_prediction_obj()\n",
    "#     df.rename(columns={'v_g': 'v(g)', 'ev_g': 'ev(g)', 'iv_g': 'iv(g)'}, inplace=True)\n",
    "    \n",
    "#     y_pred = prediction_obj.predict(df)\n",
    "#     return y_pred\n",
    "\n",
    "# p_obj = get_prediction_obj()"
   ]
  },
  {
   "cell_type": "code",
   "execution_count": 5,
   "metadata": {},
   "outputs": [
    {
     "name": "stdout",
     "output_type": "stream",
     "text": [
      "<class 'pandas.core.frame.DataFrame'>\n",
      "RangeIndex: 71234 entries, 0 to 71233\n",
      "Data columns (total 23 columns):\n",
      " #   Column             Non-Null Count  Dtype  \n",
      "---  ------             --------------  -----  \n",
      " 0   loc                71234 non-null  float64\n",
      " 1   v(g)               71234 non-null  float64\n",
      " 2   ev(g)              71234 non-null  float64\n",
      " 3   iv(g)              71234 non-null  float64\n",
      " 4   n                  71234 non-null  float64\n",
      " 5   v                  71234 non-null  float64\n",
      " 6   l                  71234 non-null  float64\n",
      " 7   d                  71234 non-null  float64\n",
      " 8   i                  71234 non-null  float64\n",
      " 9   e                  71234 non-null  float64\n",
      " 10  b                  71234 non-null  float64\n",
      " 11  t                  71234 non-null  float64\n",
      " 12  lOCode             71234 non-null  float64\n",
      " 13  lOComment          71234 non-null  float64\n",
      " 14  lOBlank            71234 non-null  float64\n",
      " 15  locCodeAndComment  71234 non-null  float64\n",
      " 16  uniq_Op            71234 non-null  float64\n",
      " 17  uniq_Opnd          71234 non-null  float64\n",
      " 18  total_Op           71234 non-null  float64\n",
      " 19  total_Opnd         71234 non-null  float64\n",
      " 20  branchCount        71234 non-null  float64\n",
      " 21  id                 71234 non-null  int64  \n",
      " 22  defects            71234 non-null  bool   \n",
      "dtypes: bool(1), float64(21), int64(1)\n",
      "memory usage: 12.0 MB\n"
     ]
    }
   ],
   "source": [
    "\n",
    "pd.read_csv(\"artifacts/data_transformation/train_data.csv\").info()"
   ]
  },
  {
   "cell_type": "code",
   "execution_count": 6,
   "metadata": {},
   "outputs": [],
   "source": [
    "# all(column in df.columns for column in p_obj.model.feature_names_in_)"
   ]
  },
  {
   "cell_type": "code",
   "execution_count": 7,
   "metadata": {},
   "outputs": [],
   "source": [
    "# predict(df)"
   ]
  }
 ],
 "metadata": {
  "kernelspec": {
   "display_name": "jupyter_nb",
   "language": "python",
   "name": "python3"
  },
  "language_info": {
   "codemirror_mode": {
    "name": "ipython",
    "version": 3
   },
   "file_extension": ".py",
   "mimetype": "text/x-python",
   "name": "python",
   "nbconvert_exporter": "python",
   "pygments_lexer": "ipython3",
   "version": "3.11.9"
  }
 },
 "nbformat": 4,
 "nbformat_minor": 2
}
