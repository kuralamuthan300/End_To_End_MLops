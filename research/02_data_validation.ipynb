{
 "cells": [
  {
   "cell_type": "code",
   "execution_count": 28,
   "metadata": {},
   "outputs": [
    {
     "data": {
      "text/plain": [
       "'C:\\\\Users\\\\kural\\\\Desktop\\\\Projects\\\\End_To_End_MLops'"
      ]
     },
     "execution_count": 28,
     "metadata": {},
     "output_type": "execute_result"
    }
   ],
   "source": [
    "%pwd"
   ]
  },
  {
   "cell_type": "code",
   "execution_count": 29,
   "metadata": {},
   "outputs": [],
   "source": [
    "import os\n",
    "from pathlib import Path\n",
    "os.chdir(Path(\"C:\\\\Users\\\\kural\\\\Desktop\\\\Projects\\\\End_To_End_MLops\\\\\"))"
   ]
  },
  {
   "cell_type": "code",
   "execution_count": 30,
   "metadata": {},
   "outputs": [
    {
     "data": {
      "text/plain": [
       "'C:\\\\Users\\\\kural\\\\Desktop\\\\Projects\\\\End_To_End_MLops'"
      ]
     },
     "execution_count": 30,
     "metadata": {},
     "output_type": "execute_result"
    }
   ],
   "source": [
    "%pwd"
   ]
  },
  {
   "cell_type": "code",
   "execution_count": 31,
   "metadata": {},
   "outputs": [],
   "source": [
    "# from software_defect_prediction.constants import *\n",
    "from software_defect_prediction.utils.common import *\n",
    "# from software_defect_prediction.entity.config_entity import DataIngestionConfig\n",
    "# from software_defect_prediction.config.configuration import ConfigurationManager"
   ]
  },
  {
   "cell_type": "code",
   "execution_count": 32,
   "metadata": {},
   "outputs": [],
   "source": [
    "from dataclasses import dataclass\n",
    "from pathlib import Path\n",
    "from software_defect_prediction import logger\n",
    "\n",
    "@dataclass(frozen=True)\n",
    "class DataValidationConfig:\n",
    "    root_dir: Path\n",
    "    source_file_path : str\n",
    "    input_file_name : str\n",
    "    STATUS_FILE: Path "
   ]
  },
  {
   "cell_type": "code",
   "execution_count": 33,
   "metadata": {},
   "outputs": [],
   "source": [
    "from venv import create\n",
    "from software_defect_prediction.constants import *\n",
    "from software_defect_prediction.entity.config_entity import DataIngestionConfig\n",
    "from software_defect_prediction.utils.common import read_yaml, create_directories\n",
    "from box import ConfigBox\n",
    "# from software_defect_prediction.entity.config_entity import (DataIngestionConfig)\n",
    "\n",
    "class ConfigurationManager:\n",
    "    def __init__(\n",
    "        self,\n",
    "        config_filepath = CONFIG_FILE_PATH,\n",
    "        params_filepath = PARAMS_FILE_PATH,\n",
    "        schema_filepath = SCHEMA_FILE_PATH):\n",
    "\n",
    "        self.config = read_yaml(config_filepath)\n",
    "        self.params = read_yaml(params_filepath)\n",
    "        self.schema = read_yaml(schema_filepath)\n",
    "\n",
    "        create_directories([self.config.artifacts_root])\n",
    " \n",
    "    def get_data_ingestion_config(self) -> DataIngestionConfig:\n",
    "        config = self.config.data_ingestion\n",
    "\n",
    "        create_directories([config.root_dir])\n",
    "\n",
    "        data_ingestion_config = DataIngestionConfig(\n",
    "            root_dir=config.root_dir,\n",
    "            source_URL=config.source_URL,\n",
    "            source_URL_file_name = config.source_URL_file_name,\n",
    "            source_URL_unzip_file_name = config.source_URL_unzip_file_name,\n",
    "            local_data_file=config.local_data_file,\n",
    "            unzip_dir=config.unzip_dir \n",
    "        )\n",
    "\n",
    "        return data_ingestion_config\n",
    "    \n",
    "    \n",
    "    def get_data_validation_config(self) -> DataValidationConfig:\n",
    "        config = self.config.data_validation\n",
    "        \n",
    "        create_directories([config.root_dir])\n",
    "        data_validation_config = DataValidationConfig(\n",
    "            root_dir = config.root_dir,\n",
    "            input_file_name = config.input_file_name,\n",
    "            source_file_path = config.source_file_path,\n",
    "            STATUS_FILE = config.STATUS_FILE\n",
    "        )\n",
    "        return data_validation_config\n",
    "    \n",
    "    def get_data_schema(self) -> ConfigBox:\n",
    "        return(self.schema)\n",
    "    "
   ]
  },
  {
   "cell_type": "code",
   "execution_count": 34,
   "metadata": {},
   "outputs": [],
   "source": [
    "from sys import exception\n",
    "from software_defect_prediction import logger\n",
    "\n",
    "from pathlib import Path\n",
    "import shutil\n",
    "import pandas as pd\n",
    "\n",
    "class Data_Validation():\n",
    "    def __init__(self,data_validation_config : DataValidationConfig, data_schema : ConfigBox) -> None:\n",
    "        self.config = data_validation_config\n",
    "        self.data_schema = data_schema\n",
    "        self.VALIDATION_STATUS = False\n",
    "        \n",
    "    def prepare_files(self) -> None:\n",
    "        \n",
    "        destination_file_path = Path(Path(self.config.root_dir) / Path(self.config.input_file_name))\n",
    "        if os.path.exists(destination_file_path):\n",
    "            os.remove(destination_file_path)\n",
    "        \n",
    "        shutil.copy(self.config.source_file_path,self.config.root_dir)\n",
    "\n",
    "    def validate_all_columns(self) -> bool:\n",
    "        try :\n",
    "            input_data = pd.read_csv(Path(self.config.root_dir) / Path(self.config.input_file_name))\n",
    "\n",
    "            input_data_schema = pd.DataFrame({\n",
    "                \"column\" : input_data.columns,\n",
    "                \"data_type\" : input_data.dtypes\n",
    "            }).reset_index(drop=True)\n",
    "\n",
    "            # input_data_schema = input_data_schema[~ input_data_schema[\"column\"].isin([\"id\",\"b\"])]\n",
    "\n",
    "            original_data_schema = pd.DataFrame({\n",
    "                \"column\" : self.data_schema.COLUMNS.keys(),\n",
    "                \"data_type\" : self.data_schema.COLUMNS.values()\n",
    "\n",
    "            }).reset_index(drop=True)\n",
    "\n",
    "            # Merge the two DataFrames on both column names and data types\n",
    "            merged_df = input_data_schema.astype(str).merge(original_data_schema.astype(str), on=['column', 'data_type'], how='outer', indicator=True)\n",
    "\n",
    "            # Filter rows where the merge indicator is not 'right_only' (i.e., where there is a mismatch with original data schema)\n",
    "            mismatched_columns = merged_df[merged_df['_merge'] == 'right_only']\n",
    "\n",
    "            # Print columns causing the mismatch\n",
    "            if not mismatched_columns.empty:\n",
    "                logger.error(\"Columns causing the mismatch: \",str(mismatched_columns['column'].unique()))\n",
    "                self.VALIDATION_STATUS = False\n",
    "                with open(self.config.STATUS_FILE, 'w') as f:\n",
    "                            f.write(f\"Validation status: {self.VALIDATION_STATUS}\")\n",
    "            else:\n",
    "                logger.info(\"Columns and data types match between the two DataFrames\")\n",
    "                self.VALIDATION_STATUS = True\n",
    "                with open(self.config.STATUS_FILE, 'w') as f:\n",
    "                            f.write(f\"Validation status: {self.VALIDATION_STATUS}\")\n",
    "                            \n",
    "            return self.VALIDATION_STATUS\n",
    "        except exception as e:\n",
    "            raise e\n"
   ]
  },
  {
   "cell_type": "code",
   "execution_count": 35,
   "metadata": {},
   "outputs": [
    {
     "name": "stderr",
     "output_type": "stream",
     "text": [
      "\u001b[32m2024-05-26 23:57:30.486\u001b[0m | \u001b[1mINFO    \u001b[0m | \u001b[36msoftware_defect_prediction.utils.common\u001b[0m:\u001b[36mread_yaml\u001b[0m:\u001b[36m31\u001b[0m - \u001b[1myaml file: config\\config.yaml loaded successfully\u001b[0m\n",
      "\u001b[32m2024-05-26 23:57:30.487\u001b[0m | \u001b[1mINFO    \u001b[0m | \u001b[36msoftware_defect_prediction.utils.common\u001b[0m:\u001b[36mread_yaml\u001b[0m:\u001b[36m31\u001b[0m - \u001b[1myaml file: params.yaml loaded successfully\u001b[0m\n",
      "\u001b[32m2024-05-26 23:57:30.493\u001b[0m | \u001b[1mINFO    \u001b[0m | \u001b[36msoftware_defect_prediction.utils.common\u001b[0m:\u001b[36mread_yaml\u001b[0m:\u001b[36m31\u001b[0m - \u001b[1myaml file: schema.yaml loaded successfully\u001b[0m\n",
      "\u001b[32m2024-05-26 23:57:30.494\u001b[0m | \u001b[1mINFO    \u001b[0m | \u001b[36msoftware_defect_prediction.utils.common\u001b[0m:\u001b[36mcreate_directories\u001b[0m:\u001b[36m51\u001b[0m - \u001b[1mcreated directory at: artifacts\u001b[0m\n",
      "\u001b[32m2024-05-26 23:57:30.496\u001b[0m | \u001b[1mINFO    \u001b[0m | \u001b[36msoftware_defect_prediction.utils.common\u001b[0m:\u001b[36mcreate_directories\u001b[0m:\u001b[36m51\u001b[0m - \u001b[1mcreated directory at: artifacts/data_validation\u001b[0m\n",
      "\u001b[32m2024-05-26 23:57:30.681\u001b[0m | \u001b[1mINFO    \u001b[0m | \u001b[36m__main__\u001b[0m:\u001b[36mvalidate_all_columns\u001b[0m:\u001b[36m55\u001b[0m - \u001b[1mColumns and data types match between the two DataFrames\u001b[0m\n"
     ]
    },
    {
     "data": {
      "text/plain": [
       "True"
      ]
     },
     "execution_count": 35,
     "metadata": {},
     "output_type": "execute_result"
    }
   ],
   "source": [
    "configuration_obj = ConfigurationManager()\n",
    "data_validation_conf =  configuration_obj.get_data_validation_config()\n",
    "data_schema = configuration_obj.get_data_schema()\n",
    "\n",
    "step_data_val = Data_Validation(data_validation_config=data_validation_conf,data_schema = data_schema)\n",
    "step_data_val.prepare_files()\n",
    "step_data_val.validate_all_columns()"
   ]
  }
 ],
 "metadata": {
  "kernelspec": {
   "display_name": "jupyter_nb",
   "language": "python",
   "name": "python3"
  },
  "language_info": {
   "codemirror_mode": {
    "name": "ipython",
    "version": 3
   },
   "file_extension": ".py",
   "mimetype": "text/x-python",
   "name": "python",
   "nbconvert_exporter": "python",
   "pygments_lexer": "ipython3",
   "version": "3.11.9"
  }
 },
 "nbformat": 4,
 "nbformat_minor": 2
}
